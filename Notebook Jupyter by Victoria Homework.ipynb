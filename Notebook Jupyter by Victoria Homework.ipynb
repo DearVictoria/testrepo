{
  "metadata": {
    "language_info": {
      "codemirror_mode": {
        "name": "python",
        "version": 3
      },
      "file_extension": ".py",
      "mimetype": "text/x-python",
      "name": "python",
      "nbconvert_exporter": "python",
      "pygments_lexer": "ipython3",
      "version": "3.8"
    },
    "kernelspec": {
      "name": "python",
      "display_name": "Pyolite",
      "language": "python"
    }
  },
  "nbformat_minor": 4,
  "nbformat": 4,
  "cells": [
    {
      "cell_type": "markdown",
      "source": "# H1 My Jupyter Notebook",
      "metadata": {
        "tags": []
      }
    },
    {
      "cell_type": "markdown",
      "source": "**Victoria Eiler**\n\"Honey liker\"",
      "metadata": {}
    },
    {
      "cell_type": "markdown",
      "source": "*I am intrested in data science because I have task to understand how data can predictate where I can buy best orange blossom honey.",
      "metadata": {}
    },
    {
      "cell_type": "markdown",
      "source": "### H3 In cell 5 my code I will show how to write and run code for numbers one and one",
      "metadata": {}
    },
    {
      "cell_type": "code",
      "source": "one=1\none=1\nprint (one+one)",
      "metadata": {
        "trusted": true
      },
      "execution_count": 14,
      "outputs": [
        {
          "name": "stdout",
          "text": "2\n",
          "output_type": "stream"
        }
      ]
    },
    {
      "cell_type": "markdown",
      "source": "**My favorite link here**:http:/coursera.org\n\n```python\ns=\"New Lunar Year\"\nprint s\n```\n~~Today is hot day~~",
      "metadata": {}
    }
  ]
}